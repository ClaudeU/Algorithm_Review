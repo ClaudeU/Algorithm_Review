{
 "cells": [
  {
   "cell_type": "code",
   "execution_count": 1,
   "metadata": {
    "collapsed": false
   },
   "outputs": [
    {
     "name": "stdout",
     "output_type": "stream",
     "text": [
      "2\n",
      "-----------------------------------------------------\n",
      "he?p\n",
      "3\n",
      "help\n",
      "heap\n",
      "helpp\n",
      "-----------------------------------------------------\n",
      "heap\n",
      "help\n",
      "-----------------------------------------------------\n",
      "*p*\n",
      "3\n",
      "help\n",
      "papa\n",
      "hello\n",
      "-----------------------------------------------------\n",
      "help\n",
      "papa\n"
     ]
    }
   ],
   "source": [
    "# 풀긴 풀었는데 뭔가 편법인거 같은 기분이..\n",
    "import re\n",
    "for i in range(int(input())):\n",
    "    print(\"-----------------------------------------------------\")\n",
    "    re_string = input().replace('?', '.').replace('*', '\\w*')\n",
    "    string_list = []\n",
    "    for j in range(int(input())):\n",
    "        input_string = input()\n",
    "        if re.match(re_string + '$', input_string):\n",
    "            string_list.append(input_string)\n",
    "\n",
    "    string_list.sort()\n",
    "    print(\"-----------------------------------------------------\")\n",
    "    for j in string_list:\n",
    "        print(j)\n"
   ]
  }
 ],
 "metadata": {
  "kernelspec": {
   "display_name": "Python [conda root]",
   "language": "python",
   "name": "conda-root-py"
  },
  "language_info": {
   "codemirror_mode": {
    "name": "ipython",
    "version": 3
   },
   "file_extension": ".py",
   "mimetype": "text/x-python",
   "name": "python",
   "nbconvert_exporter": "python",
   "pygments_lexer": "ipython3",
   "version": "3.5.2"
  }
 },
 "nbformat": 4,
 "nbformat_minor": 1
}
