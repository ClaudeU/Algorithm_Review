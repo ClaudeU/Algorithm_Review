{
 "cells": [
  {
   "cell_type": "code",
   "execution_count": 1,
   "metadata": {
    "collapsed": false
   },
   "outputs": [
    {
     "name": "stdout",
     "output_type": "stream",
     "text": [
      "3\n",
      "()()\n",
      "YES\n",
      "({[}])\n",
      "NO\n",
      "({}[(){}])\n",
      "YES\n"
     ]
    }
   ],
   "source": [
    "def brackets2(input_string):\n",
    "    li = []\n",
    "    for i, j in enumerate(input_string):\n",
    "        if j == '(' or j == '[' or j == '{':\n",
    "            li.append(j)\n",
    "\n",
    "        else:\n",
    "            if len(li) == 0:\n",
    "                return \"NO\"\n",
    "\n",
    "            elif (j == ')' and li[-1] == '(') or (j == ']' and li[-1] == '[') or (j == '}' and li[-1] == '{'):\n",
    "                li.pop()\n",
    "\n",
    "            else:\n",
    "                return \"NO\"\n",
    "\n",
    "    return \"YES\" if len(li) == 0 else \"NO\"\n",
    "\n",
    "for _ in range(int(input())):\n",
    "    print(brackets2(input()))"
   ]
  },
  {
   "cell_type": "markdown",
   "metadata": {},
   "source": [
    "<hr>\n",
    "\n",
    "__파이썬에서는 스택과 큐를 구현할 필요가 없다!!__\n",
    "\n",
    "<br>\n",
    "![](bracket_1.png)\n",
    "\n",
    "<br>\n",
    "pop, append 등을 이용하면 값을 넣거나 빼는 것을 O(1)의 시간에 할 수 있다.\n",
    "\n",
    "bracket2는 스택을 이용하면 쉽게 풀리는 문제이다.\n",
    "\n",
    "input_string을 차례로 읽어서\n",
    "\n",
    "만약 '(' 또는 '[' 또는 '{'가 들어오면 스택에 집어넣는다.\n",
    "\n",
    "그렇지 않다면 닫히는 괄호들이 들어온 것인데,\n",
    "\n",
    "이때 스택의 크기가 0이면 안되므로 \"NO\"를 반환해준다. (예를 들어 '))}')\n",
    "\n",
    "스택의 크기가 0이 아니고, 스택에 마지막 요소와 지금 들어온 요소가 서로 쌍을 이룬다면('['와 ']' 같이) 마지막 요소를 빼낸다.\n",
    "\n",
    "쌍을 이루지 않는다면 \"NO\"를 반환해준다.(예를 들어 '[(])')\n",
    "\n",
    "그리고 input_string의 모든 문자를 훑고 난 후, 스택의 크기는 0이 되어야 한다.\n",
    "\n",
    "만약 크기가 0이라면 \"YES\"를 반환해주고.\n",
    "\n",
    "그렇지 않다면 \"NO\"를 반환해준다. (예를 들어 '(()')"
   ]
  }
 ],
 "metadata": {
  "anaconda-cloud": {},
  "kernelspec": {
   "display_name": "Python [conda root]",
   "language": "python",
   "name": "conda-root-py"
  },
  "language_info": {
   "codemirror_mode": {
    "name": "ipython",
    "version": 3
   },
   "file_extension": ".py",
   "mimetype": "text/x-python",
   "name": "python",
   "nbconvert_exporter": "python",
   "pygments_lexer": "ipython3",
   "version": "3.5.2"
  }
 },
 "nbformat": 4,
 "nbformat_minor": 1
}
