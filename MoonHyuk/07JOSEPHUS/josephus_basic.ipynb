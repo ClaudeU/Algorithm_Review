{
 "cells": [
  {
   "cell_type": "code",
   "execution_count": 1,
   "metadata": {
    "collapsed": false
   },
   "outputs": [
    {
     "name": "stdout",
     "output_type": "stream",
     "text": [
      "2\n",
      "6 3\n",
      "3 5\n",
      "40 3\n",
      "11 26\n"
     ]
    }
   ],
   "source": [
    "for i in range(int(input())):\n",
    "    n, k = input().split()\n",
    "    li = list(range(1, int(n) + 1))\n",
    "    k = int(k)\n",
    "    index = 0\n",
    "\n",
    "    while len(li) > 2:\n",
    "        del li[index]\n",
    "        index = (index + k - 1) % len(li)\n",
    "\n",
    "    print(\"{0} {1}\".format(li[0], li[1]))"
   ]
  },
  {
   "cell_type": "markdown",
   "metadata": {},
   "source": [
    "<hr>\n",
    "링크드 리스트를 이용하지 않고 가장 기본적인 방법으로 푼 알고리즘입니다.\n",
    "\n",
    "우선 n과 k의 값을 받습니다.\n",
    "\n",
    "n은 11이고 k는 3이라고 가정해봅시다.\n",
    "\n",
    "그럼 3번째 줄에서 다음과 같은 리스트(파이썬에서 리스트는 단지 배열입니다.)를 만듭니다.\n",
    "\n",
    "__li = [1, 2, 3, 4, 5, 6, 7, 8, 9, 10, 11]__\n",
    "\n",
    "그리고 index = 0으로 초기화 해줍니다.\n",
    "\n",
    "리스트의 길이가 2보다 클 때 동안 while 문이 돌 것입니다.\n",
    "\n",
    "먼저 li의 첫번째 요소가 삭제됩니다.\n",
    "\n",
    "__li = [2, 3, 4, 5, 6, 7, 8, 9, 10, 11]__\n",
    "\n",
    "그 다음으로 4가 삭제되어야 합니다.\n",
    "\n",
    "이 알고리즘이 잘 작동 하는지 잘 봅시다.\n",
    "\n",
    "우선 index는 (index + k - 1) % len(li) 로 업데이트 해줍니다. \n",
    "\n",
    "이때는 (0 + 3 - 1) % 10, 즉 2가 되겠군요.\n",
    "\n",
    "li[2]는 4이므로 원하는 값을 잘 삭제하는 것을 알 수 있습니다.\n",
    "\n",
    "__li = [2, 3, 5, 6, 7, 8, 9, 10, 11]__\n",
    "\n",
    "그 다음에는 4에서 부터 3만큼 떨어진 7이 삭제 되어야 합니다.\n",
    "\n",
    "index를 (2 + 3 - 1) % 9, 즉 4으로 업데이트 해줍니다.\n",
    "\n",
    "li[4]은 7이므로 마찬가지로 원하는 값을 잘 삭제했습니다.\n",
    "\n",
    "__li = [2, 3, 5, 6, 8, 9, 10. 11]__\n",
    "\n",
    "그 다음은 index가 7이 되고 li[6], 즉 10을 삭제합니다.\n",
    "\n",
    "__li = [2, 3, 5, 6, 8, 9, 11]__\n",
    "\n",
    "이 다음이 약간 까다로울 것입니다. 과연 한바퀴를 돈 후에도 이 알고리즘은 원하는 값을 잘 삭제 하는지 보겠습니다.\n",
    "\n",
    "그 다음엔 10에서 시계방향으로 3만큼 떨어진 3이 삭제가 되어야 합니다.\n",
    "\n",
    "index = (6 + 3 - 1) % 7 = 1\n",
    "\n",
    "li[1] = 3 이므로 한바퀴를 돌아도 잘 삭제하는 것을 볼 수 있습니다.\n",
    "\n",
    "이것이 엄밀한 검증은 아니지만 알고리즘이 잘 작동한다는 것은 알 수 있습니다.",
    "\n",
    "__추가: del 함수는 O(n)만큼의 시간복잡도를 가진다고 합니다. 파이썬에서도 링크드 리스트의 필요성이 느껴지는 부분입니다.__"
   ]
  },
  {
   "cell_type": "code",
   "execution_count": null,
   "metadata": {
    "collapsed": true
   },
   "outputs": [],
   "source": []
  }
 ],
 "metadata": {
  "anaconda-cloud": {},
  "kernelspec": {
   "display_name": "Python [conda root]",
   "language": "python",
   "name": "conda-root-py"
  },
  "language_info": {
   "codemirror_mode": {
    "name": "ipython",
    "version": 3
   },
   "file_extension": ".py",
   "mimetype": "text/x-python",
   "name": "python",
   "nbconvert_exporter": "python",
   "pygments_lexer": "ipython3",
   "version": "3.5.2"
  }
 },
 "nbformat": 4,
 "nbformat_minor": 1
}
